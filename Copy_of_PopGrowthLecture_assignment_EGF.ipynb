{
  "cells": [
    {
      "cell_type": "markdown",
      "metadata": {
        "id": "view-in-github",
        "colab_type": "text"
      },
      "source": [
        "<a href=\"https://colab.research.google.com/github/VU-CSP/popgrowth_assignment-egfrankel/blob/main/Copy_of_PopGrowthLecture_assignment_EGF.ipynb\" target=\"_parent\"><img src=\"https://colab.research.google.com/assets/colab-badge.svg\" alt=\"Open In Colab\"/></a>"
      ]
    },
    {
      "cell_type": "markdown",
      "id": "03994108-9a10-4b4c-b4bf-0a48f6d1c023",
      "metadata": {
        "id": "03994108-9a10-4b4c-b4bf-0a48f6d1c023"
      },
      "source": [
        "# Analysis of Cell Proliferation\n",
        "## Objectives\n",
        "This notebook has sections designed to:\n",
        "1) Provide background on cell proliferation  \n",
        "2) Describe basic mathematical models of population growth  \n",
        "3) Analyze dynamic cell count data  \n",
        "4) Perform linear and nonlinear regression of models fit to cell count data  \n",
        "5) Create functions in Python to perform calcuations \n",
        "\n",
        "## Cell proliferation\n",
        "### Nomenclature\n",
        "* _Growth_ can mean an increase in mass or volume (at the individual level)\n",
        "* _Growth_ can also indicate an increase in population size (e.g. the number of cells in a tumor)\n",
        "* _Proliferation_ generally refers to change in the number of individuals within a group (e.g. exponential population growth)\n",
        "* _Tumor growth_ generally refers to the size of the tumor, but an increase in the number of tumor cells is implicit\n",
        "\n",
        "### Typical assays of proliferation, survival and death\n",
        "* Usually performed to test effects of perturbation (e.g. a drug)  \n",
        "* Most are static assays (take a snapshot)  \n",
        "* Multiple measurements require multiple samples (since they are destructive)  \n",
        "* Typically reported as fraction of control or percent change (relative, not absolute metrics)  \n",
        "* Biomarkers of the processes that change cell population size  \n",
        "\n",
        "Images below are representatives of 1) fluorescence microscopy of calcein/propidium iodide stained cells, 2) flow cytometry of cells stained with FxCycle violet and phospho-histone H3, 3) fluorescence microscopy of annexin A5-fluorescein-stained cells and 4) fluorescence microscopy of cells after addition of caspase 3 substrate that becomes fluorogenic upon cleavage by caspase 3 (pink).  \n",
        "\n",
        "\n",
        "\n",
        "<table>\n",
        "    <tr>\n",
        "      <td>\n",
        "      <img src=\"https://github.com/VU-CSP/quantbio-assignments/blob/main/img/calcein-PI.png?raw=1\" style=\"width: 200px;\" />\n",
        "      </td>\n",
        "      <td>\n",
        "      <img src=\"https://github.com/VU-CSP/quantbio-assignments/blob/main/img/flow-mitosis.png?raw=1\" style=\"width: 200px;\" />\n",
        "      </td>\n",
        "      <td>\n",
        "      <img src=\"https://github.com/VU-CSP/quantbio-assignments/blob/main/img/Anx5.png?raw=1\" style=\"width: 200px;\" />\n",
        "      </td>\n",
        "      <td>\n",
        "      <img src=\"https://github.com/VU-CSP/quantbio-assignments/blob/main/img/activeCasp3.png?raw=1\" style=\"width: 200px;\" />\n",
        "      </td>\n",
        "     </tr>\n",
        "</table>"
      ]
    },
    {
      "cell_type": "markdown",
      "id": "7ac8861e-0e5d-4d2f-b442-238f48bafd7d",
      "metadata": {
        "id": "7ac8861e-0e5d-4d2f-b442-238f48bafd7d"
      },
      "source": [
        "### Exponential growth\n",
        "#### _A math refresher_\n",
        "<img src=\"https://github.com/VU-CSP/quantbio-assignments/blob/main/img/Math-ugh.png?raw=1\" style=\"width: 500px;\"/>\n",
        "\n",
        "* Definition of Logarithm: $log_e e^x = x$, where $e > 0$ and $e ≠ 1$   \n",
        "* Product Rule: $log(xy) = log(x) + log(y)$\n",
        "* Base change rule: $log_a(n) = log_b(n)/log_a(b)$  \n",
        "\n",
        "#### **Exponential growth equation**\n",
        "$P(t) = P_0e^{at}$, where  \n",
        "$P(t)$ is the population size at time = $t$,  \n",
        "$P_0$ is initial population size, and  \n",
        "$a$ is the growth rate constant.\n",
        "\n",
        "_The logarithm of the growth equation is linear_  \n",
        "$log_e P(t) = log_e P_0e^{at} = log_e P_0 + log_e e^{at} = log_e P_0 + at$  \n",
        "\n",
        "_(reorganizing to the form of $y = ax + b$)_  \n",
        "$log_e P(t) = at + log_e P_0$, where,  \n",
        "growth rate = $a$ = _slope of the line_ and log of initial population size = _y intercept_   \n",
        "\n",
        "##### **This means that you can fit exponentially growing population data with linear models**\n",
        "\n",
        "This also works in log2 scale using a population doubling function:  \n",
        "$P(t) = P_02^{at}$,  \n",
        "which allows for an easier biological interpretation."
      ]
    },
    {
      "cell_type": "markdown",
      "id": "25b229c6-432b-4d6c-9979-0f67c3246d34",
      "metadata": {
        "id": "25b229c6-432b-4d6c-9979-0f67c3246d34"
      },
      "source": [
        "## Plotting and interpreting cell population growth data\n",
        "These graphs were previously generated and are shown for reference. Data are shown in linear, log2 and normalized log2 scales. Lines shown on log2 and normalized log2 plots represent linear model fits and the slope (proliferation rate) and doubling time (1/proliferation rate) parameters of the optimal model fit are shown.  \n",
        "\n",
        "<img src=\"https://github.com/VU-CSP/quantbio-assignments/blob/main/img/pop_growth_difft_scales.png?raw=1\" style=\"width: 800px;\" />\n"
      ]
    },
    {
      "cell_type": "markdown",
      "id": "f5d5336f-8a1c-4beb-adc0-6ba4e0b63804",
      "metadata": {
        "id": "f5d5336f-8a1c-4beb-adc0-6ba4e0b63804"
      },
      "source": [
        "### Divergence from exponential growth\n",
        "There are numerous conditions that result in non-exponential cell population growth, for example, when cells fill in their available space (a.k.a. contact inhibition).  \n"
      ]
    },
    {
      "cell_type": "markdown",
      "id": "095e56de",
      "metadata": {
        "id": "095e56de"
      },
      "source": [
        "<img src=\"https://github.com/VU-CSP/quantbio-assignments/blob/main/img/contact_inhibition.png?raw=1\" style=\"width: 300px;\"/>  "
      ]
    },
    {
      "cell_type": "markdown",
      "id": "bcafe3ca",
      "metadata": {
        "id": "bcafe3ca"
      },
      "source": [
        "There are some specific models that have been used to model growth inhibition, including the \n",
        "**Logistic** and **Gompertz** functions.  \n"
      ]
    },
    {
      "cell_type": "markdown",
      "id": "fa4c4a18-c3cc-47ea-9e68-5f468497ff94",
      "metadata": {
        "id": "fa4c4a18-c3cc-47ea-9e68-5f468497ff94"
      },
      "source": [
        "<img src=\"https://github.com/VU-CSP/quantbio-assignments/blob/main/img/evidence_for_Gompertz_tumors.png?raw=1\" style=\"width: 800px;\"/>  \n",
        "<img src=\"https://github.com/VU-CSP/quantbio-assignments/blob/main/img/logistic_growth_model.jpeg?raw=1\" style=\"width: 800px;\"/>  \n",
        "<img src=\"https://github.com/VU-CSP/quantbio-assignments/blob/main/img/gompertz_growth_model.jpeg?raw=1\" style=\"width: 800px;\"/>  \n"
      ]
    },
    {
      "cell_type": "markdown",
      "id": "ec305d36-2c3b-4d52-b806-054b615a84f7",
      "metadata": {
        "id": "ec305d36-2c3b-4d52-b806-054b615a84f7"
      },
      "source": [
        "_We will do some exploratory data analysis of a small cell count data set to interpret how populations of cells grow in culture._\n",
        "-----"
      ]
    },
    {
      "cell_type": "markdown",
      "id": "40e0a719-37e3-4a84-8668-769a294dd293",
      "metadata": {
        "id": "40e0a719-37e3-4a84-8668-769a294dd293"
      },
      "source": [
        "### First, import necessary Python packages"
      ]
    },
    {
      "cell_type": "code",
      "execution_count": 1,
      "id": "549f8f33-de74-4ddd-9645-22a758ea2814",
      "metadata": {
        "id": "549f8f33-de74-4ddd-9645-22a758ea2814"
      },
      "outputs": [],
      "source": [
        "import numpy as np\n",
        "import pandas as pd\n",
        "import seaborn as sns\n",
        "import matplotlib.pyplot as plt\n",
        "import os"
      ]
    },
    {
      "cell_type": "markdown",
      "id": "Sfrp0w8cysS1",
      "metadata": {
        "id": "Sfrp0w8cysS1"
      },
      "source": [
        "See whether we are running in Google Colab or not."
      ]
    },
    {
      "cell_type": "code",
      "execution_count": 2,
      "id": "CLSZT8xMyphI",
      "metadata": {
        "id": "CLSZT8xMyphI"
      },
      "outputs": [],
      "source": [
        "try:\n",
        "  import google.colab\n",
        "  IN_COLAB = True\n",
        "except:\n",
        "  IN_COLAB = False"
      ]
    },
    {
      "cell_type": "markdown",
      "id": "ad299e4b-bd09-40c9-93ce-a8959d76a375",
      "metadata": {
        "id": "ad299e4b-bd09-40c9-93ce-a8959d76a375"
      },
      "source": [
        "### Load custom functions\n",
        "File name `growth_fxns.py` includes functions for:  \n",
        "* flattening a matrix (nested lists): `flatten_matrix`  \n",
        "* stochastic simulation of exponential growth: `gillespie_growth`  \n",
        "* deterministic solution of exponential growth: `exp_growth`  \n",
        "    \n",
        "* deterministic solution of logistic growth: `mylogistic`\n",
        "* deterministic solution of Gompertzian growth: `gompertz`\n"
      ]
    },
    {
      "cell_type": "code",
      "execution_count": 3,
      "id": "c72e3dc2-f48c-447a-95de-f428c2f6b3da",
      "metadata": {
        "colab": {
          "base_uri": "https://localhost:8080/"
        },
        "id": "c72e3dc2-f48c-447a-95de-f428c2f6b3da",
        "outputId": "e25dbbc6-f22e-4d67-f8e5-a6798b4ad846"
      },
      "outputs": [
        {
          "output_type": "stream",
          "name": "stdout",
          "text": [
            "--2023-02-27 15:09:21--  https://raw.githubusercontent.com/VU-CSP/quantbio-assignments/main/growth_fxns.py\n",
            "Resolving raw.githubusercontent.com (raw.githubusercontent.com)... 185.199.111.133, 185.199.109.133, 185.199.108.133, ...\n",
            "Connecting to raw.githubusercontent.com (raw.githubusercontent.com)|185.199.111.133|:443... connected.\n",
            "HTTP request sent, awaiting response... 200 OK\n",
            "Length: 2307 (2.3K) [text/plain]\n",
            "Saving to: ‘growth_fxns.py’\n",
            "\n",
            "\rgrowth_fxns.py        0%[                    ]       0  --.-KB/s               \rgrowth_fxns.py      100%[===================>]   2.25K  --.-KB/s    in 0s      \n",
            "\n",
            "2023-02-27 15:09:21 (29.2 MB/s) - ‘growth_fxns.py’ saved [2307/2307]\n",
            "\n"
          ]
        }
      ],
      "source": [
        "if IN_COLAB and not os.path.exists(\"growth_fxns.py\"):\n",
        "    !wget \"https://raw.githubusercontent.com/VU-CSP/quantbio-assignments/main/growth_fxns.py\"\n",
        "from growth_fxns import *"
      ]
    },
    {
      "cell_type": "markdown",
      "id": "95fd8d3f-61c2-463d-8b01-1e961269af9c",
      "metadata": {
        "id": "95fd8d3f-61c2-463d-8b01-1e961269af9c"
      },
      "source": [
        "### Adjust seaborn plot settings\n",
        "_To make the graphics prettier._ You can learn more about seaborn at the [seaborn website]()  "
      ]
    },
    {
      "cell_type": "code",
      "execution_count": 4,
      "id": "f28ff5a6-dc57-4fe3-a49f-d448f8bbc226",
      "metadata": {
        "id": "f28ff5a6-dc57-4fe3-a49f-d448f8bbc226"
      },
      "outputs": [],
      "source": [
        "sns.set_context(\"notebook\", font_scale=1.5, rc={\"lines.linewidth\": 2.5})"
      ]
    },
    {
      "cell_type": "markdown",
      "id": "fb6587a1-2b3d-4aaf-ad96-c50e6eb7547a",
      "metadata": {
        "id": "fb6587a1-2b3d-4aaf-ad96-c50e6eb7547a"
      },
      "source": [
        "#### Load a small dataset\n",
        "Data from multiwell plate of cells, some of which have been treated with a drug."
      ]
    },
    {
      "cell_type": "code",
      "execution_count": 5,
      "id": "5ffdbde1-987c-4817-9487-288cce2d3509",
      "metadata": {
        "colab": {
          "base_uri": "https://localhost:8080/",
          "height": 403
        },
        "id": "5ffdbde1-987c-4817-9487-288cce2d3509",
        "outputId": "2249f3f1-0924-41d8-9376-28953f7b7a9a"
      },
      "outputs": [
        {
          "output_type": "stream",
          "name": "stdout",
          "text": [
            "--2023-02-27 15:09:21--  https://raw.githubusercontent.com/VU-CSP/quantbio-assignments/main/MCF10A_trametinib.csv\n",
            "Resolving raw.githubusercontent.com (raw.githubusercontent.com)... 185.199.108.133, 185.199.109.133, 185.199.110.133, ...\n",
            "Connecting to raw.githubusercontent.com (raw.githubusercontent.com)|185.199.108.133|:443... connected.\n",
            "HTTP request sent, awaiting response... 200 OK\n",
            "Length: 13490 (13K) [text/plain]\n",
            "Saving to: ‘MCF10A_trametinib.csv’\n",
            "\n",
            "\rMCF10A_trametinib.c   0%[                    ]       0  --.-KB/s               \rMCF10A_trametinib.c 100%[===================>]  13.17K  --.-KB/s    in 0s      \n",
            "\n",
            "2023-02-27 15:09:21 (56.0 MB/s) - ‘MCF10A_trametinib.csv’ saved [13490/13490]\n",
            "\n"
          ]
        },
        {
          "output_type": "execute_result",
          "data": {
            "text/plain": [
              "  well  time  cell.count            uid       drug1  drug1.conc\n",
              "0  A01   0.8          32  10ACh-28A_H03  trametinib    0.000004\n",
              "1  A01   5.6          25  10ACh-28A_H03  trametinib    0.000004\n",
              "2  A01  10.5          31  10ACh-28A_H03  trametinib    0.000004\n",
              "3  A01  15.3          53  10ACh-28A_H03  trametinib    0.000004\n",
              "4  A01  20.0          39  10ACh-28A_H03  trametinib    0.000004"
            ],
            "text/html": [
              "\n",
              "  <div id=\"df-1503e119-bdf2-4c5b-a9c8-d1a73dd470e0\">\n",
              "    <div class=\"colab-df-container\">\n",
              "      <div>\n",
              "<style scoped>\n",
              "    .dataframe tbody tr th:only-of-type {\n",
              "        vertical-align: middle;\n",
              "    }\n",
              "\n",
              "    .dataframe tbody tr th {\n",
              "        vertical-align: top;\n",
              "    }\n",
              "\n",
              "    .dataframe thead th {\n",
              "        text-align: right;\n",
              "    }\n",
              "</style>\n",
              "<table border=\"1\" class=\"dataframe\">\n",
              "  <thead>\n",
              "    <tr style=\"text-align: right;\">\n",
              "      <th></th>\n",
              "      <th>well</th>\n",
              "      <th>time</th>\n",
              "      <th>cell.count</th>\n",
              "      <th>uid</th>\n",
              "      <th>drug1</th>\n",
              "      <th>drug1.conc</th>\n",
              "    </tr>\n",
              "  </thead>\n",
              "  <tbody>\n",
              "    <tr>\n",
              "      <th>0</th>\n",
              "      <td>A01</td>\n",
              "      <td>0.8</td>\n",
              "      <td>32</td>\n",
              "      <td>10ACh-28A_H03</td>\n",
              "      <td>trametinib</td>\n",
              "      <td>0.000004</td>\n",
              "    </tr>\n",
              "    <tr>\n",
              "      <th>1</th>\n",
              "      <td>A01</td>\n",
              "      <td>5.6</td>\n",
              "      <td>25</td>\n",
              "      <td>10ACh-28A_H03</td>\n",
              "      <td>trametinib</td>\n",
              "      <td>0.000004</td>\n",
              "    </tr>\n",
              "    <tr>\n",
              "      <th>2</th>\n",
              "      <td>A01</td>\n",
              "      <td>10.5</td>\n",
              "      <td>31</td>\n",
              "      <td>10ACh-28A_H03</td>\n",
              "      <td>trametinib</td>\n",
              "      <td>0.000004</td>\n",
              "    </tr>\n",
              "    <tr>\n",
              "      <th>3</th>\n",
              "      <td>A01</td>\n",
              "      <td>15.3</td>\n",
              "      <td>53</td>\n",
              "      <td>10ACh-28A_H03</td>\n",
              "      <td>trametinib</td>\n",
              "      <td>0.000004</td>\n",
              "    </tr>\n",
              "    <tr>\n",
              "      <th>4</th>\n",
              "      <td>A01</td>\n",
              "      <td>20.0</td>\n",
              "      <td>39</td>\n",
              "      <td>10ACh-28A_H03</td>\n",
              "      <td>trametinib</td>\n",
              "      <td>0.000004</td>\n",
              "    </tr>\n",
              "  </tbody>\n",
              "</table>\n",
              "</div>\n",
              "      <button class=\"colab-df-convert\" onclick=\"convertToInteractive('df-1503e119-bdf2-4c5b-a9c8-d1a73dd470e0')\"\n",
              "              title=\"Convert this dataframe to an interactive table.\"\n",
              "              style=\"display:none;\">\n",
              "        \n",
              "  <svg xmlns=\"http://www.w3.org/2000/svg\" height=\"24px\"viewBox=\"0 0 24 24\"\n",
              "       width=\"24px\">\n",
              "    <path d=\"M0 0h24v24H0V0z\" fill=\"none\"/>\n",
              "    <path d=\"M18.56 5.44l.94 2.06.94-2.06 2.06-.94-2.06-.94-.94-2.06-.94 2.06-2.06.94zm-11 1L8.5 8.5l.94-2.06 2.06-.94-2.06-.94L8.5 2.5l-.94 2.06-2.06.94zm10 10l.94 2.06.94-2.06 2.06-.94-2.06-.94-.94-2.06-.94 2.06-2.06.94z\"/><path d=\"M17.41 7.96l-1.37-1.37c-.4-.4-.92-.59-1.43-.59-.52 0-1.04.2-1.43.59L10.3 9.45l-7.72 7.72c-.78.78-.78 2.05 0 2.83L4 21.41c.39.39.9.59 1.41.59.51 0 1.02-.2 1.41-.59l7.78-7.78 2.81-2.81c.8-.78.8-2.07 0-2.86zM5.41 20L4 18.59l7.72-7.72 1.47 1.35L5.41 20z\"/>\n",
              "  </svg>\n",
              "      </button>\n",
              "      \n",
              "  <style>\n",
              "    .colab-df-container {\n",
              "      display:flex;\n",
              "      flex-wrap:wrap;\n",
              "      gap: 12px;\n",
              "    }\n",
              "\n",
              "    .colab-df-convert {\n",
              "      background-color: #E8F0FE;\n",
              "      border: none;\n",
              "      border-radius: 50%;\n",
              "      cursor: pointer;\n",
              "      display: none;\n",
              "      fill: #1967D2;\n",
              "      height: 32px;\n",
              "      padding: 0 0 0 0;\n",
              "      width: 32px;\n",
              "    }\n",
              "\n",
              "    .colab-df-convert:hover {\n",
              "      background-color: #E2EBFA;\n",
              "      box-shadow: 0px 1px 2px rgba(60, 64, 67, 0.3), 0px 1px 3px 1px rgba(60, 64, 67, 0.15);\n",
              "      fill: #174EA6;\n",
              "    }\n",
              "\n",
              "    [theme=dark] .colab-df-convert {\n",
              "      background-color: #3B4455;\n",
              "      fill: #D2E3FC;\n",
              "    }\n",
              "\n",
              "    [theme=dark] .colab-df-convert:hover {\n",
              "      background-color: #434B5C;\n",
              "      box-shadow: 0px 1px 3px 1px rgba(0, 0, 0, 0.15);\n",
              "      filter: drop-shadow(0px 1px 2px rgba(0, 0, 0, 0.3));\n",
              "      fill: #FFFFFF;\n",
              "    }\n",
              "  </style>\n",
              "\n",
              "      <script>\n",
              "        const buttonEl =\n",
              "          document.querySelector('#df-1503e119-bdf2-4c5b-a9c8-d1a73dd470e0 button.colab-df-convert');\n",
              "        buttonEl.style.display =\n",
              "          google.colab.kernel.accessAllowed ? 'block' : 'none';\n",
              "\n",
              "        async function convertToInteractive(key) {\n",
              "          const element = document.querySelector('#df-1503e119-bdf2-4c5b-a9c8-d1a73dd470e0');\n",
              "          const dataTable =\n",
              "            await google.colab.kernel.invokeFunction('convertToInteractive',\n",
              "                                                     [key], {});\n",
              "          if (!dataTable) return;\n",
              "\n",
              "          const docLinkHtml = 'Like what you see? Visit the ' +\n",
              "            '<a target=\"_blank\" href=https://colab.research.google.com/notebooks/data_table.ipynb>data table notebook</a>'\n",
              "            + ' to learn more about interactive tables.';\n",
              "          element.innerHTML = '';\n",
              "          dataTable['output_type'] = 'display_data';\n",
              "          await google.colab.output.renderOutput(dataTable, element);\n",
              "          const docLink = document.createElement('div');\n",
              "          docLink.innerHTML = docLinkHtml;\n",
              "          element.appendChild(docLink);\n",
              "        }\n",
              "      </script>\n",
              "    </div>\n",
              "  </div>\n",
              "  "
            ]
          },
          "metadata": {},
          "execution_count": 5
        }
      ],
      "source": [
        "if IN_COLAB and not os.path.exists(\"MCF10A_trametinib.csv\"):\n",
        "    !wget \"https://raw.githubusercontent.com/VU-CSP/quantbio-assignments/main/MCF10A_trametinib.csv\"\n",
        "d = pd.read_csv(\"MCF10A_trametinib.csv\")\n",
        "d.head()"
      ]
    },
    {
      "cell_type": "markdown",
      "id": "4ee5278b-1d1e-4427-a596-8151c61ead1a",
      "metadata": {
        "id": "4ee5278b-1d1e-4427-a596-8151c61ead1a"
      },
      "source": [
        "### Add new columns\n",
        "Add values for log2(cell.count) (`l2`) and population doublings (`pd`). Calculating log2 values are easy since it is calculated directly from the `cell.count` values. Population doublings must be normalized for each well independently. To better understand each step, try to pull out the code in smaller chunks and run them in different cells."
      ]
    },
    {
      "cell_type": "code",
      "execution_count": 6,
      "id": "4312e53f-babd-475b-91c0-a20cc04b03c1",
      "metadata": {
        "id": "4312e53f-babd-475b-91c0-a20cc04b03c1"
      },
      "outputs": [],
      "source": [
        "d.insert(2,\"l2\",np.empty_like(d[\"cell.count\"])) # inserting calculations for log 2 and population doubling (goes in second position according to python)\n",
        "d.insert(3,\"pd\",np.empty_like(d[\"cell.count\"])) # first two lines making new columns with same length as cell counts\n",
        "d[\"l2\"] = np.round(np.log2(d[\"cell.count\"]),3) # log2 calculations using numpy\n",
        "d[\"pd\"] = flatten_matrix([np.round(d[d[\"well\"]==w][\"l2\"] - d[d[\"well\"]==w][\"l2\"].to_list()[0],3) for w in d[\"well\"].unique()]) "
      ]
    },
    {
      "cell_type": "markdown",
      "id": "d1222d88-bd97-494f-83c7-658156b50806",
      "metadata": {
        "id": "d1222d88-bd97-494f-83c7-658156b50806"
      },
      "source": [
        "## Assignment task #1\n",
        "Copy and execute a chunk of code from the line assigning values to `d[\"pd\"]`. Describe what you did and the output in the following markup block."
      ]
    },
    {
      "cell_type": "code",
      "source": [
        "# d[\"pd\"] = flatten_matrix([np.round(d[d[\"well\"]==w][\"l2\"] - d[d[\"well\"]==w][\"l2\"].to_list()[0],3) for w in d[\"well\"].unique()])\n",
        "# I broke down the flatten matrix into what it is doing and what each specific piece of the code is doing and wrote it in a fashion that made the most sense to me\n",
        "\n",
        "for w in d[\"well\"].unique(): # for loop is atributing each well to w and making a unique list with no repeats (list will be 12 elements since only 12 unique wells)\n",
        "  d1 = d[d[\"well\"]==w][\"l2\"] # looking and pulling out (filtering) all the values in 'wells' column if they are equal to w and then pulling out the corresponding value in 12\n",
        "  d2 = d[d[\"well\"]==w][\"l2\"].to_list()[0] # Then again the data column of wells is filtered for if it is equal to w along with the corresponding value in '12 --> these values are then added to a list where the oth element is pulled out\n",
        "  pd_b = d1 - d2 # The initial values in '12' are then subtracted by the oth element\n",
        "  pd_round = np.round(pd_b,3) # each pd_b value is then rounded to three decimal place\n",
        "  print(pd_round)"
      ],
      "metadata": {
        "colab": {
          "base_uri": "https://localhost:8080/"
        },
        "id": "kX0j3NASZXdX",
        "outputId": "ba6ff213-6ed9-4185-b993-536e8762d924"
      },
      "id": "kX0j3NASZXdX",
      "execution_count": 7,
      "outputs": [
        {
          "output_type": "stream",
          "name": "stdout",
          "text": [
            "0     0.000\n",
            "1    -0.356\n",
            "2    -0.046\n",
            "3     0.728\n",
            "4     0.285\n",
            "5     0.700\n",
            "6     0.615\n",
            "7     0.807\n",
            "8     0.781\n",
            "9     0.700\n",
            "10    0.585\n",
            "11    0.807\n",
            "12    0.615\n",
            "13    0.555\n",
            "14    0.392\n",
            "15    0.644\n",
            "16    0.358\n",
            "17    0.585\n",
            "18    0.285\n",
            "19    0.555\n",
            "20    0.524\n",
            "21    0.209\n",
            "22    0.585\n",
            "23    0.285\n",
            "24    0.322\n",
            "Name: l2, dtype: float64\n",
            "25    0.000\n",
            "26    0.289\n",
            "27    0.530\n",
            "28    0.654\n",
            "29    1.000\n",
            "30    1.637\n",
            "31    1.671\n",
            "32    2.211\n",
            "33    2.354\n",
            "34    2.796\n",
            "35    2.986\n",
            "36    3.219\n",
            "37    3.631\n",
            "38    3.983\n",
            "39    4.342\n",
            "40    4.580\n",
            "41    4.651\n",
            "42    4.997\n",
            "43    5.411\n",
            "44    5.591\n",
            "45    5.865\n",
            "46    6.066\n",
            "47    6.353\n",
            "48    6.531\n",
            "49    6.630\n",
            "Name: l2, dtype: float64\n",
            "50    0.000\n",
            "51    0.098\n",
            "52    0.457\n",
            "53    0.640\n",
            "54    0.896\n",
            "55    1.246\n",
            "56    1.505\n",
            "57    1.992\n",
            "58    2.000\n",
            "59    2.563\n",
            "60    2.822\n",
            "61    3.038\n",
            "62    3.401\n",
            "63    3.616\n",
            "64    4.011\n",
            "65    4.305\n",
            "66    4.331\n",
            "67    4.710\n",
            "68    5.132\n",
            "69    5.359\n",
            "70    5.738\n",
            "71    6.047\n",
            "72    6.313\n",
            "73    6.613\n",
            "74    6.709\n",
            "Name: l2, dtype: float64\n",
            "75    0.000\n",
            "76    0.132\n",
            "77    0.466\n",
            "78    0.578\n",
            "79    0.989\n",
            "80    1.223\n",
            "81    1.554\n",
            "82    1.798\n",
            "83    2.237\n",
            "84    2.511\n",
            "85    2.992\n",
            "86    3.155\n",
            "87    3.462\n",
            "88    3.846\n",
            "89    4.141\n",
            "90    4.495\n",
            "91    4.688\n",
            "92    4.924\n",
            "93    5.207\n",
            "94    5.541\n",
            "95    5.651\n",
            "96    5.953\n",
            "97    6.157\n",
            "98    6.242\n",
            "99    6.328\n",
            "Name: l2, dtype: float64\n",
            "100    0.000\n",
            "101    0.063\n",
            "102    0.658\n",
            "103    0.812\n",
            "104    0.984\n",
            "105    1.485\n",
            "106    1.678\n",
            "107    1.951\n",
            "108    2.222\n",
            "109    2.508\n",
            "110    2.683\n",
            "111    3.063\n",
            "112    3.412\n",
            "113    3.614\n",
            "114    4.008\n",
            "115    4.234\n",
            "116    4.251\n",
            "117    4.392\n",
            "118    4.587\n",
            "119    4.562\n",
            "120    4.554\n",
            "121    4.477\n",
            "122    4.400\n",
            "123    4.304\n",
            "124    4.217\n",
            "Name: l2, dtype: float64\n",
            "125    0.000\n",
            "126   -0.152\n",
            "127    0.233\n",
            "128    0.700\n",
            "129    0.744\n",
            "130    1.307\n",
            "131    1.621\n",
            "132    1.828\n",
            "133    2.240\n",
            "134    2.511\n",
            "135    2.717\n",
            "136    3.092\n",
            "137    3.307\n",
            "138    3.711\n",
            "139    4.004\n",
            "140    4.285\n",
            "141    4.352\n",
            "142    4.737\n",
            "143    5.239\n",
            "144    5.514\n",
            "145    5.912\n",
            "146    6.209\n",
            "147    6.462\n",
            "148    6.720\n",
            "149    6.901\n",
            "Name: l2, dtype: float64\n",
            "150    0.000\n",
            "151    0.544\n",
            "152    0.737\n",
            "153    0.663\n",
            "154    0.773\n",
            "155    1.415\n",
            "156    1.605\n",
            "157    1.807\n",
            "158    2.102\n",
            "159    2.415\n",
            "160    2.575\n",
            "161    2.946\n",
            "162    3.150\n",
            "163    3.421\n",
            "164    3.887\n",
            "165    4.033\n",
            "166    3.935\n",
            "167    4.295\n",
            "168    4.661\n",
            "169    4.911\n",
            "170    5.162\n",
            "171    5.512\n",
            "172    5.765\n",
            "173    5.852\n",
            "174    5.964\n",
            "Name: l2, dtype: float64\n",
            "175    0.000\n",
            "176    0.186\n",
            "177    0.282\n",
            "178    0.537\n",
            "179    0.972\n",
            "180    1.415\n",
            "181    1.498\n",
            "182    2.069\n",
            "183    2.235\n",
            "184    2.552\n",
            "185    2.754\n",
            "186    3.177\n",
            "187    3.478\n",
            "188    3.822\n",
            "189    4.169\n",
            "190    4.515\n",
            "191    4.554\n",
            "192    4.911\n",
            "193    5.357\n",
            "194    5.508\n",
            "195    5.851\n",
            "196    6.077\n",
            "197    6.288\n",
            "198    6.508\n",
            "199    6.596\n",
            "Name: l2, dtype: float64\n",
            "200    0.000\n",
            "201    0.448\n",
            "202    0.711\n",
            "203    1.033\n",
            "204    1.228\n",
            "205    1.472\n",
            "206    1.681\n",
            "207    1.992\n",
            "208    2.374\n",
            "209    2.596\n",
            "210    2.929\n",
            "211    3.126\n",
            "212    3.424\n",
            "213    3.711\n",
            "214    4.005\n",
            "215    4.364\n",
            "216    4.413\n",
            "217    4.401\n",
            "218    4.555\n",
            "219    5.067\n",
            "220    5.280\n",
            "221    5.449\n",
            "222    5.620\n",
            "223    5.804\n",
            "224    5.899\n",
            "Name: l2, dtype: float64\n",
            "225    0.000\n",
            "226    0.204\n",
            "227    0.576\n",
            "228    0.831\n",
            "229    0.962\n",
            "230    1.457\n",
            "231    1.601\n",
            "232    1.898\n",
            "233    2.326\n",
            "234    2.656\n",
            "235    2.966\n",
            "236    3.186\n",
            "237    3.516\n",
            "238    3.847\n",
            "239    4.196\n",
            "240    4.445\n",
            "241    4.511\n",
            "242    4.876\n",
            "243    5.209\n",
            "244    5.437\n",
            "245    5.728\n",
            "246    5.959\n",
            "247    6.240\n",
            "248    6.467\n",
            "249    6.519\n",
            "Name: l2, dtype: float64\n",
            "250    0.000\n",
            "251    0.422\n",
            "252    0.303\n",
            "253    0.674\n",
            "254    0.871\n",
            "255    1.399\n",
            "256    1.467\n",
            "257    1.992\n",
            "258    2.233\n",
            "259    2.399\n",
            "260    2.574\n",
            "261    2.900\n",
            "262    3.135\n",
            "263    3.522\n",
            "264    3.896\n",
            "265    4.183\n",
            "266    4.244\n",
            "267    4.488\n",
            "268    4.816\n",
            "269    5.124\n",
            "270    5.374\n",
            "271    5.647\n",
            "272    5.829\n",
            "273    6.004\n",
            "274    6.236\n",
            "Name: l2, dtype: float64\n",
            "275    0.000\n",
            "276    0.297\n",
            "277    0.729\n",
            "278    0.958\n",
            "279    0.958\n",
            "280    0.729\n",
            "281    0.915\n",
            "282    0.802\n",
            "283    0.958\n",
            "284    0.754\n",
            "285    1.021\n",
            "286    1.000\n",
            "287    0.802\n",
            "288    0.871\n",
            "289    0.825\n",
            "290    0.754\n",
            "291    0.729\n",
            "292    0.937\n",
            "293    0.802\n",
            "294    0.729\n",
            "295    0.778\n",
            "296    0.778\n",
            "297    0.802\n",
            "298    0.871\n",
            "299    0.729\n",
            "Name: l2, dtype: float64\n"
          ]
        }
      ]
    },
    {
      "cell_type": "markdown",
      "source": [
        "***Put your description of the code in the previous block here:***\n",
        "\n",
        "First there is a for loop that is attributing each well to w and making a unique list with no repeats (list will be l2 elements since only 12 unique wells). Then the function is looking and pulling out (filtering) all the values in the'wells' column if they are equal to w and then pulling out the corresponding value in l2.Then again the data column of 'wells' is filtered for if it is equal to w along with the corresponding value in 'l2 --> these values are then added to a list where the oth element is pulled out. The initial values in 'l2' are then subtracted by the oth element that was pulled out of the list. Finally each corresponding pd value that results from this subtraction is then rounded to three decimal places.\n",
        "\n",
        "Also, the block below is a small part of the code that I took out and made work. I wanted to include this above portion for myself to ensure I fully understood every aspect of the function."
      ],
      "metadata": {
        "id": "Ft0dj_tFaRan"
      },
      "id": "Ft0dj_tFaRan"
    },
    {
      "cell_type": "code",
      "source": [
        "# Taking a unique part of the flatten matrix function and showing what it is specifcally doing:\n",
        "unique_wells = []\n",
        "\n",
        "for w in d[\"well\"].unique(): \n",
        "  unique_wells.append(w)\n",
        "\n",
        "unique_wells\n",
        "# for loop is atributing each well to w and making a unique list with no repeast (list will be 12 elements since only 12 unique wells)"
      ],
      "metadata": {
        "colab": {
          "base_uri": "https://localhost:8080/"
        },
        "id": "Na3h2oVpZaya",
        "outputId": "b74077f8-aa30-44ed-ff23-2afc3e6d0a65"
      },
      "id": "Na3h2oVpZaya",
      "execution_count": 8,
      "outputs": [
        {
          "output_type": "execute_result",
          "data": {
            "text/plain": [
              "['A01',\n",
              " 'A02',\n",
              " 'A03',\n",
              " 'A04',\n",
              " 'A05',\n",
              " 'A06',\n",
              " 'A07',\n",
              " 'A08',\n",
              " 'A09',\n",
              " 'A10',\n",
              " 'A11',\n",
              " 'A12']"
            ]
          },
          "metadata": {},
          "execution_count": 8
        }
      ]
    },
    {
      "cell_type": "markdown",
      "id": "ae735ec1-1f4c-45ff-9290-56c9def398ed",
      "metadata": {
        "id": "ae735ec1-1f4c-45ff-9290-56c9def398ed"
      },
      "source": [
        "***Put your description of the code in the previous block here:***\n",
        "\n",
        "The for loop is attributing each well to w and making a unique list with no repeats (list will be 12 elements since only 12 unique wells in the dataframe)"
      ]
    },
    {
      "cell_type": "markdown",
      "id": "5b56a147-be3b-4a8d-b833-37357a76d1c5",
      "metadata": {
        "id": "5b56a147-be3b-4a8d-b833-37357a76d1c5"
      },
      "source": [
        "#### Plot data in different scales\n",
        "We will look at a single well (`A02`) of data in linear scale (direct cell counts), log2 scale and as population doublings (log2 scale normalized to 1 cell at the first time point)."
      ]
    },
    {
      "cell_type": "code",
      "execution_count": 9,
      "id": "7adfe491-1870-4265-97e7-24551c6c1569",
      "metadata": {
        "colab": {
          "base_uri": "https://localhost:8080/",
          "height": 298
        },
        "id": "7adfe491-1870-4265-97e7-24551c6c1569",
        "outputId": "f1e27311-45ce-48d6-abb0-626badde1744"
      },
      "outputs": [
        {
          "output_type": "display_data",
          "data": {
            "text/plain": [
              "<Figure size 864x288 with 3 Axes>"
            ],
            "image/png": "[encoded data removed]"
          },
          "metadata": {
            "needs_background": "light"
          }
        }
      ],
      "source": [
        "ss = d[d[\"well\"]==\"A02\"]\n",
        "# names = ['Linear', 'Log2', 'Normalized log2']\n",
        "fig, axs = plt.subplots(figsize=(12, 4))\n",
        "plt.subplot(131) #positions\n",
        "plt.ylabel('Cell number')\n",
        "sns.scatterplot(data=ss, x=\"time\", y=\"cell.count\")\n",
        "plt.subplot(132)\n",
        "plt.ylabel('Log2(cell number)')\n",
        "sns.scatterplot(data=ss, x=\"time\", y=\"l2\")\n",
        "plt.subplot(133)\n",
        "plt.ylabel('Population doublings')\n",
        "sns.scatterplot(data=ss, x=\"time\", y=\"pd\")\n",
        "plt.show()"
      ]
    },
    {
      "cell_type": "markdown",
      "id": "95a0731e-59a7-4cfb-9087-7f0232c3b0da",
      "metadata": {
        "id": "95a0731e-59a7-4cfb-9087-7f0232c3b0da"
      },
      "source": [
        "#### Look at aggregated data\n",
        "Many seaborn functions will automatically perform the statistical estimation. In the plots below, data will be grouped by `drug1` using the seaborn `hue` argument."
      ]
    },
    {
      "cell_type": "code",
      "execution_count": 10,
      "id": "72a45a3e-b307-43cd-af53-1ac27c02fec0",
      "metadata": {
        "colab": {
          "base_uri": "https://localhost:8080/",
          "height": 303
        },
        "id": "72a45a3e-b307-43cd-af53-1ac27c02fec0",
        "outputId": "d54b3f3a-8e19-485c-d3ab-e6bcd8ae23d5"
      },
      "outputs": [
        {
          "output_type": "display_data",
          "data": {
            "text/plain": [
              "<Figure size 864x288 with 3 Axes>"
            ],
            "image/png": "[encoded data removed]"
          },
          "metadata": {
            "needs_background": "light"
          }
        }
      ],
      "source": [
        "fig, (ax1, ax2, ax3) = plt.subplots(nrows=1, ncols=3, figsize=(12, 4))\n",
        "plt.subplot(131)\n",
        "plt.xlabel('Time (h)')\n",
        "plt.ylabel('Cell number')\n",
        "sns.lineplot(data=d, x=\"time\", y=\"cell.count\", hue=\"drug1\")\n",
        "plt.legend(loc='upper left', fontsize='8')\n",
        "plt.subplot(132)\n",
        "plt.xlabel('Time (h)')\n",
        "plt.ylabel('Log2(cell number)')\n",
        "sns.lineplot(data=d, x=\"time\", y=\"l2\", hue=\"drug1\")\n",
        "plt.legend(loc='upper left', fontsize='8')\n",
        "plt.subplot(133)\n",
        "plt.xlabel('Time (h)')\n",
        "plt.ylabel('Population doublings')\n",
        "sns.lineplot(data=d, x=\"time\", y=\"pd\", hue=\"drug1\")\n",
        "plt.legend(loc='upper left', fontsize='8')\n",
        "plt.show()\n",
        "# shaded areas are CI \n",
        "# CI different from normalized log2 to log2, trying to control for random varaition per well after the fact. hats whay it disappears in PD"
      ]
    },
    {
      "cell_type": "markdown",
      "id": "aaf8399f-9670-46fc-af7e-fe2cc85ebb88",
      "metadata": {
        "id": "aaf8399f-9670-46fc-af7e-fe2cc85ebb88"
      },
      "source": [
        "The shaded areas represent confidence intervals. Compare the confidence interval between the log2 and normalized log2 plots, especially at time < 100 h."
      ]
    },
    {
      "cell_type": "markdown",
      "id": "154dba49-a823-4eb6-a004-63a9698bb955",
      "metadata": {
        "id": "154dba49-a823-4eb6-a004-63a9698bb955"
      },
      "source": [
        "How many samples of each type are there? Calculate this by counting the number of unique `well`s there are in each group (`drug1`==trametinib or control)"
      ]
    },
    {
      "cell_type": "code",
      "execution_count": 11,
      "id": "21c868af-fb1b-4f07-8ef1-6bd912932254",
      "metadata": {
        "colab": {
          "base_uri": "https://localhost:8080/"
        },
        "id": "21c868af-fb1b-4f07-8ef1-6bd912932254",
        "outputId": "3f9ddcc5-43d2-4a01-bc43-96f924489164"
      },
      "outputs": [
        {
          "output_type": "stream",
          "name": "stdout",
          "text": [
            "Wells with trametinib treatment: n = 2\n",
            "Control wells: n = 10\n"
          ]
        }
      ],
      "source": [
        "n_tram = len(d[d[\"drug1\"]==\"trametinib\"][\"well\"].unique())\n",
        "n_ctrl = len(d[d[\"drug1\"]!=\"trametinib\"][\"well\"].unique())\n",
        "#  counting how many samples we have for each\n",
        "print(f\"Wells with trametinib treatment: n = {n_tram}\\nControl wells: n = {n_ctrl}\")"
      ]
    },
    {
      "cell_type": "markdown",
      "id": "893b067d-b9d0-47bb-b4e1-7051aa6a3421",
      "metadata": {
        "id": "893b067d-b9d0-47bb-b4e1-7051aa6a3421"
      },
      "source": [
        "#### Look at data by well\n",
        "To see each well of data individually we will set `hue` to color data by `well`."
      ]
    },
    {
      "cell_type": "code",
      "execution_count": 12,
      "id": "fe669618-97e3-4dd6-8b98-74d85ccc42b1",
      "metadata": {
        "colab": {
          "base_uri": "https://localhost:8080/",
          "height": 298
        },
        "id": "fe669618-97e3-4dd6-8b98-74d85ccc42b1",
        "outputId": "4906f6d7-76bf-4183-f0ec-8cf5efccea8c"
      },
      "outputs": [
        {
          "output_type": "display_data",
          "data": {
            "text/plain": [
              "<Figure size 864x288 with 3 Axes>"
            ],
            "image/png": "[encoded data removed]"
          },
          "metadata": {
            "needs_background": "light"
          }
        }
      ],
      "source": [
        "fig, axs = plt.subplots(nrows=1, ncols=3, figsize=(12, 4))\n",
        "plt.subplot(131)\n",
        "plt.xlabel('Time (h)')\n",
        "plt.ylabel('Cell number')\n",
        "sns.lineplot(data=d, x=\"time\", y=\"cell.count\", hue=\"well\")\n",
        "plt.legend(loc='upper left', fontsize='8')\n",
        "plt.subplot(132)\n",
        "plt.xlabel('Time (h)')\n",
        "plt.ylabel('Log2(cell number)')\n",
        "sns.lineplot(data=d, x=\"time\", y=\"l2\", hue=\"well\")\n",
        "plt.legend(loc='upper left', fontsize='8')\n",
        "plt.subplot(133)\n",
        "plt.xlabel('Time (h)')\n",
        "plt.ylabel('Population doublings')\n",
        "sns.lineplot(data=d, x=\"time\", y=\"pd\", hue=\"well\")\n",
        "plt.legend(loc='upper left', fontsize='8')\n",
        "plt.show()"
      ]
    },
    {
      "cell_type": "markdown",
      "id": "b70a0be3-611d-425c-8f75-14e1b9c5588d",
      "metadata": {
        "id": "b70a0be3-611d-425c-8f75-14e1b9c5588d"
      },
      "source": [
        "How well do the individual lines reflect your expectations from the aggregated data with confidence intervals? Do any wells clearly stand out? Let's look only at wells A04, A05 and A07 in log2 scale and visualize each individual data point using `scatterplot`."
      ]
    },
    {
      "cell_type": "code",
      "execution_count": 13,
      "id": "b0458a96-3200-4988-a61c-0c44aec6b0d4",
      "metadata": {
        "colab": {
          "base_uri": "https://localhost:8080/",
          "height": 316
        },
        "id": "b0458a96-3200-4988-a61c-0c44aec6b0d4",
        "outputId": "9f9cc31d-7efe-4858-b7b7-6db9bcaf9783"
      },
      "outputs": [
        {
          "output_type": "execute_result",
          "data": {
            "text/plain": [
              "<matplotlib.legend.Legend at 0x7fc0a4a46100>"
            ]
          },
          "metadata": {},
          "execution_count": 13
        },
        {
          "output_type": "display_data",
          "data": {
            "text/plain": [
              "<Figure size 432x288 with 1 Axes>"
            ],
            "image/png": "[encoded data removed]"
          },
          "metadata": {
            "needs_background": "light"
          }
        }
      ],
      "source": [
        "# dtp = data to plot\n",
        "dtp = d[(d[\"well\"] == \"A04\") | (d[\"well\"] == \"A05\") | (d[\"well\"] == \"A07\")]\n",
        "sns.scatterplot(data=dtp, x=\"time\", y=\"l2\", hue=\"well\")\n",
        "plt.legend(loc='upper left', fontsize='8')\n"
      ]
    },
    {
      "cell_type": "markdown",
      "id": "759f0e12-f434-48d4-a846-598badd68e64",
      "metadata": {
        "id": "759f0e12-f434-48d4-a846-598badd68e64"
      },
      "source": [
        "## Assignment task #2\n",
        "Generate a scatterplot of population doublings over time for the same wells as the block above (wells A04, A05 and A07). Describe the difference you see between the new graph and the graph of data in log2 scale."
      ]
    },
    {
      "cell_type": "code",
      "execution_count": 14,
      "id": "b22f7170-76bc-42c9-af8e-fd623469b30c",
      "metadata": {
        "id": "b22f7170-76bc-42c9-af8e-fd623469b30c",
        "colab": {
          "base_uri": "https://localhost:8080/",
          "height": 316
        },
        "outputId": "fd584080-bab8-42bd-a3ff-985f8826bc33"
      },
      "outputs": [
        {
          "output_type": "execute_result",
          "data": {
            "text/plain": [
              "<matplotlib.legend.Legend at 0x7fc0a4bb16d0>"
            ]
          },
          "metadata": {},
          "execution_count": 14
        },
        {
          "output_type": "display_data",
          "data": {
            "text/plain": [
              "<Figure size 432x288 with 1 Axes>"
            ],
            "image/png": "[encoded data removed]"
          },
          "metadata": {
            "needs_background": "light"
          }
        }
      ],
      "source": [
        "# Add your code for scatterplot of population doublings here\n",
        "# dtp = data to plot\n",
        "dtp = d[(d[\"well\"] == \"A04\") | (d[\"well\"] == \"A05\") | (d[\"well\"] == \"A07\")]\n",
        "sns.scatterplot(data=dtp, x=\"time\", y=\"pd\", hue=\"well\")\n",
        "plt.legend(loc='upper left', fontsize='8')"
      ]
    },
    {
      "cell_type": "markdown",
      "id": "cad14622-98de-4521-9cc7-8c6b01c7c583",
      "metadata": {
        "id": "cad14622-98de-4521-9cc7-8c6b01c7c583"
      },
      "source": [
        "***Describe your comparison of the data shown in log2 (`l2`) and \n",
        "normalized log2 (`pd`):***\n",
        "\n",
        "There is less variance in the population doubling graph compared to the log2 transformed graph. Also, the scale on the population doublings graph is smaller than the log2 graph, which can be seen in the difference between the wells. Moreover, the well values are more tightly packed and near each other in the population doubling graph than in the log2 graph. \n"
      ]
    },
    {
      "cell_type": "markdown",
      "id": "b2ad573a-5ba5-4e3a-a6c3-eebc3730e83d",
      "metadata": {
        "id": "b2ad573a-5ba5-4e3a-a6c3-eebc3730e83d"
      },
      "source": [
        "Apart from visually inspecting the data, we should use model fitting to extract parameter values that can help us interpret the data quantitatively."
      ]
    },
    {
      "cell_type": "markdown",
      "id": "52ab9eb0-8019-4f34-8a94-f095019df421",
      "metadata": {
        "id": "52ab9eb0-8019-4f34-8a94-f095019df421"
      },
      "source": [
        "## Model fitting\n",
        "### Use SciPy's `linregress` function or Seaborn's `lmplot` function\n",
        "Because an exponential growth rate is directly proportional to the log of the number of components (i.e., cells), we can fit each well of data independently with a linear model to help interpret the data. Linear models are easy to fit and fitting functions are commonly provided by many different Python packages. We will find optimum parameters using two different packages: [`scipy.stats.lingress`](https://docs.scipy.org/doc/scipy/reference/generated/scipy.stats.linregress.html) and [`seaborn.lmplot`](). You can learn more about these algorithms by clicking on their names to get a link to online documentation.\n"
      ]
    },
    {
      "cell_type": "code",
      "execution_count": 15,
      "id": "8fea67ea-f287-431b-b895-174fc71940d2",
      "metadata": {
        "id": "8fea67ea-f287-431b-b895-174fc71940d2"
      },
      "outputs": [],
      "source": [
        "from scipy.stats import linregress"
      ]
    },
    {
      "cell_type": "markdown",
      "id": "f800f6e5-54be-4420-8395-1f2a235cb829",
      "metadata": {
        "id": "f800f6e5-54be-4420-8395-1f2a235cb829"
      },
      "source": [
        "Let's fit only the control data (`drug1.conc` == 0)"
      ]
    },
    {
      "cell_type": "code",
      "execution_count": 16,
      "id": "9178cdf4-ea40-4404-9968-d2b4e8d8916f",
      "metadata": {
        "id": "9178cdf4-ea40-4404-9968-d2b4e8d8916f"
      },
      "outputs": [],
      "source": [
        "# dtf = data to fit\n",
        "dtf = d[d[\"drug1.conc\"]==0]\n",
        "ctrl_wells = dtf[\"well\"].unique()\n",
        "n_tram = d[d[\"drug1\"]==\"trametinib\"][\"well\"].unique()\n",
        "# what is .unique()???????????"
      ]
    },
    {
      "cell_type": "markdown",
      "id": "64346a18-877b-48df-ac54-5dc39d364c04",
      "metadata": {
        "id": "64346a18-877b-48df-ac54-5dc39d364c04"
      },
      "source": [
        "We will perform a list comprehension to fit data for each well independently."
      ]
    },
    {
      "cell_type": "code",
      "execution_count": 17,
      "id": "0cbfeb0c-2bbd-445f-a35f-457fe69937f3",
      "metadata": {
        "id": "0cbfeb0c-2bbd-445f-a35f-457fe69937f3",
        "colab": {
          "base_uri": "https://localhost:8080/"
        },
        "outputId": "5821493a-4977-4f82-8339-34608266cb3f"
      },
      "outputs": [
        {
          "output_type": "stream",
          "name": "stdout",
          "text": [
            "[LinregressResult(slope=0.06022896641702735, intercept=5.7553028660515935, rvalue=0.997007677754436, pvalue=4.426059612328882e-27, stderr=0.0009737266076228812, intercept_stderr=0.06612844584661831), LinregressResult(slope=0.060846424497371744, intercept=5.212788495165553, rvalue=0.9990947611147231, pvalue=4.776167619926461e-33, stderr=0.0005402101680293283, intercept_stderr=0.036687154857080205), LinregressResult(slope=0.05958479964994724, intercept=5.866617665251483, rvalue=0.99578848860991, pvalue=2.2407657805089508e-25, stderr=0.0011438806417812992, intercept_stderr=0.07768407321198084), LinregressResult(slope=0.04213856350987254, intercept=5.954856565499206, rvalue=0.948102903314719, pvalue=6.197968592534882e-13, stderr=0.002946712803437691, intercept_stderr=0.200119352313247), LinregressResult(slope=0.06317378481888555, intercept=4.99889479574143, rvalue=0.998801671632976, pvalue=1.2003553483580818e-31, stderr=0.0006454557741692525, intercept_stderr=0.04383467276583798), LinregressResult(slope=0.052790587351130264, intercept=4.625962724597566, rvalue=0.9973743511064291, pvalue=9.860811910518352e-28, stderr=0.0007992496234113056, intercept_stderr=0.05427923508089483), LinregressResult(slope=0.06121708372014977, intercept=5.507893100733968, rvalue=0.997530954560135, pvalue=4.865242580055202e-28, stderr=0.0008986563300914874, intercept_stderr=0.06103021730529862), LinregressResult(slope=0.051496063107729355, intercept=5.713674008994021, rvalue=0.9952931013264138, pvalue=8.030994250065193e-25, stderr=0.0010455140938246733, intercept_stderr=0.07100373102070758), LinregressResult(slope=0.05920064373873083, intercept=5.8487815902083895, rvalue=0.9981276936388431, pvalue=2.025850836531259e-29, stderr=0.0007564434760032397, intercept_stderr=0.05137215214959122), LinregressResult(slope=0.055669976938096534, intercept=5.491817267368646, rvalue=0.9980505740064325, pvalue=3.221355981656708e-29, stderr=0.0007258739140640285, intercept_stderr=0.04929608931488341)]\n"
          ]
        }
      ],
      "source": [
        "res = [linregress(dtf[dtf[\"well\"]==ctrl_wells[i]][[\"time\",\"l2\"]]) for i in np.arange(len(ctrl_wells))]\n",
        "# [linregress(dtf[dtf[\"well\"]==ctrl_wells[i]][[\"time\",\"l2\"]]) lionear regression functtion applied to the data from that well using only the columns 12 and time\n",
        "# essentually iterating each value in 12 and time and then outputting into a list\n",
        "print(res)"
      ]
    },
    {
      "cell_type": "code",
      "source": [
        "np.arange(len(ctrl_wells))"
      ],
      "metadata": {
        "colab": {
          "base_uri": "https://localhost:8080/"
        },
        "id": "G3d86jiWpSmd",
        "outputId": "862ab8e6-585a-40a8-fbdf-217987ca7d77"
      },
      "id": "G3d86jiWpSmd",
      "execution_count": 18,
      "outputs": [
        {
          "output_type": "execute_result",
          "data": {
            "text/plain": [
              "array([0, 1, 2, 3, 4, 5, 6, 7, 8, 9])"
            ]
          },
          "metadata": {},
          "execution_count": 18
        }
      ]
    },
    {
      "cell_type": "markdown",
      "id": "b35b0afe-3e3b-4b70-ae4f-dc651f50d9ca",
      "metadata": {
        "id": "b35b0afe-3e3b-4b70-ae4f-dc651f50d9ca"
      },
      "source": [
        "The `linregress` function returns a `namedtuple` of length 5. Let's look at an example output."
      ]
    },
    {
      "cell_type": "code",
      "execution_count": 19,
      "id": "e5f82ff0-829a-44cb-8548-afd68b4fab4d",
      "metadata": {
        "colab": {
          "base_uri": "https://localhost:8080/"
        },
        "id": "e5f82ff0-829a-44cb-8548-afd68b4fab4d",
        "outputId": "d5c307bc-261f-4938-eb26-4b68d1c82a3b"
      },
      "outputs": [
        {
          "output_type": "stream",
          "name": "stdout",
          "text": [
            "Example linregress output for well A03\n"
          ]
        },
        {
          "output_type": "execute_result",
          "data": {
            "text/plain": [
              "LinregressResult(slope=0.060846424497371744, intercept=5.212788495165553, rvalue=0.9990947611147231, pvalue=4.776167619926461e-33, stderr=0.0005402101680293283, intercept_stderr=0.036687154857080205)"
            ]
          },
          "metadata": {},
          "execution_count": 19
        }
      ],
      "source": [
        "example_well = dtf[\"well\"].unique()[1]\n",
        "print(f\"Example linregress output for well {example_well}\")\n",
        "res[1]"
      ]
    },
    {
      "cell_type": "code",
      "source": [
        "res[2].slope"
      ],
      "metadata": {
        "colab": {
          "base_uri": "https://localhost:8080/"
        },
        "id": "An5OzAlypvTj",
        "outputId": "2de4096c-32d0-4699-da65-9d6a25f9449c"
      },
      "id": "An5OzAlypvTj",
      "execution_count": 20,
      "outputs": [
        {
          "output_type": "execute_result",
          "data": {
            "text/plain": [
              "0.05958479964994724"
            ]
          },
          "metadata": {},
          "execution_count": 20
        }
      ]
    },
    {
      "cell_type": "markdown",
      "id": "4bf15674-73c4-407e-9774-4e1fd6d7ca08",
      "metadata": {
        "id": "4bf15674-73c4-407e-9774-4e1fd6d7ca08"
      },
      "source": [
        "Each value can be pulled out independently using the respective names. We will pull out all `slope` values, which represent the population doubling (proliferation) rate. To make it a bit easier to read we will also round the values to 4 decimal places."
      ]
    },
    {
      "cell_type": "code",
      "execution_count": 21,
      "id": "ca448f0e-839c-4bf6-bd73-1102897d1196",
      "metadata": {
        "colab": {
          "base_uri": "https://localhost:8080/"
        },
        "id": "ca448f0e-839c-4bf6-bd73-1102897d1196",
        "outputId": "725a80f0-fef2-4bb9-9877-b2f2af2df7e5"
      },
      "outputs": [
        {
          "output_type": "execute_result",
          "data": {
            "text/plain": [
              "A02    0.0602\n",
              "A03    0.0608\n",
              "A04    0.0596\n",
              "A05    0.0421\n",
              "A06    0.0632\n",
              "A07    0.0528\n",
              "A08    0.0612\n",
              "A09    0.0515\n",
              "A10    0.0592\n",
              "A11    0.0557\n",
              "dtype: float64"
            ]
          },
          "metadata": {},
          "execution_count": 21
        }
      ],
      "source": [
        "prates = pd.Series(data=[np.round(r.slope,4) for r in res], index=ctrl_wells)\n",
        "prates"
      ]
    },
    {
      "cell_type": "markdown",
      "id": "0866a88c-9647-4c9f-bc19-11cdf04e3af4",
      "metadata": {
        "id": "0866a88c-9647-4c9f-bc19-11cdf04e3af4"
      },
      "source": [
        "Most values are above 0.05 and most are close to 0.06, but one value looks low (A05: 0.0421). We can check for goodness of fit for linear regression by calculating $R^2$. (Only `rvalue` is provided, so we need to square it using `**2`.)"
      ]
    },
    {
      "cell_type": "code",
      "execution_count": 22,
      "id": "f286e02f-4282-431c-bd00-5782b1ec398d",
      "metadata": {
        "colab": {
          "base_uri": "https://localhost:8080/"
        },
        "id": "f286e02f-4282-431c-bd00-5782b1ec398d",
        "outputId": "183056f8-8b93-4a08-8413-861519782160"
      },
      "outputs": [
        {
          "output_type": "execute_result",
          "data": {
            "text/plain": [
              "A02    0.9940\n",
              "A03    0.9982\n",
              "A04    0.9916\n",
              "A05    0.8989\n",
              "A06    0.9976\n",
              "A07    0.9948\n",
              "A08    0.9951\n",
              "A09    0.9906\n",
              "A10    0.9963\n",
              "A11    0.9961\n",
              "dtype: float64"
            ]
          },
          "metadata": {},
          "execution_count": 22
        }
      ],
      "source": [
        "r2_vals = pd.Series(data=[np.round(r.rvalue**2,4) for r in res], index=ctrl_wells)\n",
        "r2_vals"
      ]
    },
    {
      "cell_type": "markdown",
      "id": "56c980c4-7a5e-4584-bb46-929e993244df",
      "metadata": {
        "id": "56c980c4-7a5e-4584-bb46-929e993244df"
      },
      "source": [
        "Only well A05 has an $R^2$ value < 0.99."
      ]
    },
    {
      "cell_type": "markdown",
      "id": "aebafc13-a5dd-4cf8-a932-e44d057a416d",
      "metadata": {
        "id": "aebafc13-a5dd-4cf8-a932-e44d057a416d"
      },
      "source": [
        "So, 9 of 10 control wells are explained well by linear models. This fits with the visual evidence that something anomalous happens to the cell counts in well A05 after ~75. This is consistent with a possible technical problem when medium is changed in the experiment @ ~ 72h.  "
      ]
    },
    {
      "cell_type": "markdown",
      "id": "14240290-81c5-4de3-bef8-274eb4338c04",
      "metadata": {
        "id": "14240290-81c5-4de3-bef8-274eb4338c04"
      },
      "source": [
        "## Assignment task #3\n",
        "Perform linear regression using the `linregress` function on the trametinib-treated wells. Describe how the proliferation rates compare to the rates of the control wells in the subsequent markdown block."
      ]
    },
    {
      "cell_type": "code",
      "execution_count": 23,
      "id": "3a6d7961-96e5-4f57-aa99-9a808a3dbe27",
      "metadata": {
        "id": "3a6d7961-96e5-4f57-aa99-9a808a3dbe27",
        "colab": {
          "base_uri": "https://localhost:8080/"
        },
        "outputId": "01fd15ff-c2b1-4582-d609-08c99b2f8115"
      },
      "outputs": [
        {
          "output_type": "stream",
          "name": "stdout",
          "text": [
            "A01    0.0013\n",
            "A12    0.0018\n",
            "dtype: float64\n"
          ]
        }
      ],
      "source": [
        "# perform linear regression on the trametinib-treated wells\n",
        "dtf = d[d[\"drug1.conc\"]!=0]\n",
        "n_tram = d[d[\"drug1\"]==\"trametinib\"][\"well\"].unique()\n",
        "res = [linregress(dtf[dtf[\"well\"]==n_tram[i]][[\"time\",\"l2\"]]) for i in np.arange(len(n_tram))]\n",
        "np.arange(len(n_tram))\n",
        "prates = pd.Series(data=[np.round(r.slope,4) for r in res], index=n_tram)\n",
        "print(prates)\n",
        "# The proliferation rates from the Tram treated cells are much smaller than that for the control which recieved no drugs.\n"
      ]
    },
    {
      "cell_type": "markdown",
      "id": "68348d8a-9f8c-44ba-bc41-0a9548286b76",
      "metadata": {
        "id": "68348d8a-9f8c-44ba-bc41-0a9548286b76"
      },
      "source": [
        "***Describe here your comparison of the rates between trametinib-treated wells and the control wells:***\n",
        "\n",
        "The proliferation rates from the Tram treated cells are much smaller than that for the control which recieved no drug. For example, the tram wells have an average proliferation rate of about 0.0015, while the control wells have an average proliferation rate of about 0.0566.\n"
      ]
    },
    {
      "cell_type": "markdown",
      "id": "a543b1dd-6136-4c6b-81a8-f4beec76df7c",
      "metadata": {
        "id": "a543b1dd-6136-4c6b-81a8-f4beec76df7c"
      },
      "source": [
        "We will visualize the linear model fitting using the seaborn `lmplot` function, which uses SciPy `linregress` function itself. This is a simple way to visualize the fits and their confidence intervals."
      ]
    },
    {
      "cell_type": "code",
      "execution_count": 24,
      "id": "65b0b21d-ffc3-42c7-b1d7-913d281e39ac",
      "metadata": {
        "colab": {
          "base_uri": "https://localhost:8080/",
          "height": 377
        },
        "id": "65b0b21d-ffc3-42c7-b1d7-913d281e39ac",
        "outputId": "6a24d1c7-9071-4dc5-d1f9-836360e633fb"
      },
      "outputs": [
        {
          "output_type": "display_data",
          "data": {
            "text/plain": [
              "<Figure size 451.65x360 with 1 Axes>"
            ],
            "image/png": "[encoded data removed]"
          },
          "metadata": {
            "needs_background": "light"
          }
        }
      ],
      "source": [
        "p = sns.lmplot(data=d, x=\"time\", y=\"pd\", hue=\"well\")\n",
        "# color each well of data independently by setting hue = well"
      ]
    },
    {
      "cell_type": "markdown",
      "id": "dbbd32cc-aa59-4839-922f-8443c38ea42b",
      "metadata": {
        "id": "dbbd32cc-aa59-4839-922f-8443c38ea42b"
      },
      "source": [
        "We can also get fit parameter values from models fitting to all data from each condition (control or trametinib-treated)."
      ]
    },
    {
      "cell_type": "code",
      "execution_count": 25,
      "id": "cdeaa57f-6ae9-4f2b-a254-08bdfbc8da22",
      "metadata": {
        "colab": {
          "base_uri": "https://localhost:8080/",
          "height": 352
        },
        "id": "cdeaa57f-6ae9-4f2b-a254-08bdfbc8da22",
        "outputId": "568e2ddd-48a3-43df-fe73-184844264780"
      },
      "outputs": [
        {
          "output_type": "display_data",
          "data": {
            "text/plain": [
              "<Figure size 505.65x360 with 1 Axes>"
            ],
            "image/png": "[encoded data removed]"
          },
          "metadata": {
            "needs_background": "light"
          }
        }
      ],
      "source": [
        "p = sns.lmplot(data=d, x=\"time\", y=\"pd\", hue=\"drug1\")"
      ]
    },
    {
      "cell_type": "markdown",
      "id": "86f8611a-f42f-4b12-b162-f7ebd8e26466",
      "metadata": {
        "id": "86f8611a-f42f-4b12-b162-f7ebd8e26466"
      },
      "source": [
        "## Non-loglinear data\n",
        "When cells are in conditions that limit their proliferation or increase cell death, such as when contact inhibited or treated with drugs, their growth may appear nonlinear. To analyze data like this we can interpret the data using nonlinear model fitting. For this exercise we will use simulated data. "
      ]
    },
    {
      "cell_type": "code",
      "execution_count": 26,
      "id": "1dd0cd18-72e6-4d70-ab38-b0bc3109352a",
      "metadata": {
        "colab": {
          "base_uri": "https://localhost:8080/",
          "height": 206
        },
        "id": "1dd0cd18-72e6-4d70-ab38-b0bc3109352a",
        "outputId": "bcb47c15-a1be-4124-a10f-1bdcc8edd160"
      },
      "outputs": [
        {
          "output_type": "execute_result",
          "data": {
            "text/plain": [
              "   time  cell.count        pd\n",
              "0     0  108.452629  0.000000\n",
              "1     3  114.671082  0.080437\n",
              "2     6  137.605309  0.343471\n",
              "3     9  163.397796  0.591324\n",
              "4    12  178.516048  0.718989"
            ],
            "text/html": [
              "\n",
              "  <div id=\"df-2159b139-ae2e-4c4b-a03a-02ce312f39cc\">\n",
              "    <div class=\"colab-df-container\">\n",
              "      <div>\n",
              "<style scoped>\n",
              "    .dataframe tbody tr th:only-of-type {\n",
              "        vertical-align: middle;\n",
              "    }\n",
              "\n",
              "    .dataframe tbody tr th {\n",
              "        vertical-align: top;\n",
              "    }\n",
              "\n",
              "    .dataframe thead th {\n",
              "        text-align: right;\n",
              "    }\n",
              "</style>\n",
              "<table border=\"1\" class=\"dataframe\">\n",
              "  <thead>\n",
              "    <tr style=\"text-align: right;\">\n",
              "      <th></th>\n",
              "      <th>time</th>\n",
              "      <th>cell.count</th>\n",
              "      <th>pd</th>\n",
              "    </tr>\n",
              "  </thead>\n",
              "  <tbody>\n",
              "    <tr>\n",
              "      <th>0</th>\n",
              "      <td>0</td>\n",
              "      <td>108.452629</td>\n",
              "      <td>0.000000</td>\n",
              "    </tr>\n",
              "    <tr>\n",
              "      <th>1</th>\n",
              "      <td>3</td>\n",
              "      <td>114.671082</td>\n",
              "      <td>0.080437</td>\n",
              "    </tr>\n",
              "    <tr>\n",
              "      <th>2</th>\n",
              "      <td>6</td>\n",
              "      <td>137.605309</td>\n",
              "      <td>0.343471</td>\n",
              "    </tr>\n",
              "    <tr>\n",
              "      <th>3</th>\n",
              "      <td>9</td>\n",
              "      <td>163.397796</td>\n",
              "      <td>0.591324</td>\n",
              "    </tr>\n",
              "    <tr>\n",
              "      <th>4</th>\n",
              "      <td>12</td>\n",
              "      <td>178.516048</td>\n",
              "      <td>0.718989</td>\n",
              "    </tr>\n",
              "  </tbody>\n",
              "</table>\n",
              "</div>\n",
              "      <button class=\"colab-df-convert\" onclick=\"convertToInteractive('df-2159b139-ae2e-4c4b-a03a-02ce312f39cc')\"\n",
              "              title=\"Convert this dataframe to an interactive table.\"\n",
              "              style=\"display:none;\">\n",
              "        \n",
              "  <svg xmlns=\"http://www.w3.org/2000/svg\" height=\"24px\"viewBox=\"0 0 24 24\"\n",
              "       width=\"24px\">\n",
              "    <path d=\"M0 0h24v24H0V0z\" fill=\"none\"/>\n",
              "    <path d=\"M18.56 5.44l.94 2.06.94-2.06 2.06-.94-2.06-.94-.94-2.06-.94 2.06-2.06.94zm-11 1L8.5 8.5l.94-2.06 2.06-.94-2.06-.94L8.5 2.5l-.94 2.06-2.06.94zm10 10l.94 2.06.94-2.06 2.06-.94-2.06-.94-.94-2.06-.94 2.06-2.06.94z\"/><path d=\"M17.41 7.96l-1.37-1.37c-.4-.4-.92-.59-1.43-.59-.52 0-1.04.2-1.43.59L10.3 9.45l-7.72 7.72c-.78.78-.78 2.05 0 2.83L4 21.41c.39.39.9.59 1.41.59.51 0 1.02-.2 1.41-.59l7.78-7.78 2.81-2.81c.8-.78.8-2.07 0-2.86zM5.41 20L4 18.59l7.72-7.72 1.47 1.35L5.41 20z\"/>\n",
              "  </svg>\n",
              "      </button>\n",
              "      \n",
              "  <style>\n",
              "    .colab-df-container {\n",
              "      display:flex;\n",
              "      flex-wrap:wrap;\n",
              "      gap: 12px;\n",
              "    }\n",
              "\n",
              "    .colab-df-convert {\n",
              "      background-color: #E8F0FE;\n",
              "      border: none;\n",
              "      border-radius: 50%;\n",
              "      cursor: pointer;\n",
              "      display: none;\n",
              "      fill: #1967D2;\n",
              "      height: 32px;\n",
              "      padding: 0 0 0 0;\n",
              "      width: 32px;\n",
              "    }\n",
              "\n",
              "    .colab-df-convert:hover {\n",
              "      background-color: #E2EBFA;\n",
              "      box-shadow: 0px 1px 2px rgba(60, 64, 67, 0.3), 0px 1px 3px 1px rgba(60, 64, 67, 0.15);\n",
              "      fill: #174EA6;\n",
              "    }\n",
              "\n",
              "    [theme=dark] .colab-df-convert {\n",
              "      background-color: #3B4455;\n",
              "      fill: #D2E3FC;\n",
              "    }\n",
              "\n",
              "    [theme=dark] .colab-df-convert:hover {\n",
              "      background-color: #434B5C;\n",
              "      box-shadow: 0px 1px 3px 1px rgba(0, 0, 0, 0.15);\n",
              "      filter: drop-shadow(0px 1px 2px rgba(0, 0, 0, 0.3));\n",
              "      fill: #FFFFFF;\n",
              "    }\n",
              "  </style>\n",
              "\n",
              "      <script>\n",
              "        const buttonEl =\n",
              "          document.querySelector('#df-2159b139-ae2e-4c4b-a03a-02ce312f39cc button.colab-df-convert');\n",
              "        buttonEl.style.display =\n",
              "          google.colab.kernel.accessAllowed ? 'block' : 'none';\n",
              "\n",
              "        async function convertToInteractive(key) {\n",
              "          const element = document.querySelector('#df-2159b139-ae2e-4c4b-a03a-02ce312f39cc');\n",
              "          const dataTable =\n",
              "            await google.colab.kernel.invokeFunction('convertToInteractive',\n",
              "                                                     [key], {});\n",
              "          if (!dataTable) return;\n",
              "\n",
              "          const docLinkHtml = 'Like what you see? Visit the ' +\n",
              "            '<a target=\"_blank\" href=https://colab.research.google.com/notebooks/data_table.ipynb>data table notebook</a>'\n",
              "            + ' to learn more about interactive tables.';\n",
              "          element.innerHTML = '';\n",
              "          dataTable['output_type'] = 'display_data';\n",
              "          await google.colab.output.renderOutput(dataTable, element);\n",
              "          const docLink = document.createElement('div');\n",
              "          docLink.innerHTML = docLinkHtml;\n",
              "          element.appendChild(docLink);\n",
              "        }\n",
              "      </script>\n",
              "    </div>\n",
              "  </div>\n",
              "  "
            ]
          },
          "metadata": {},
          "execution_count": 26
        }
      ],
      "source": [
        "np.random.seed(7)\n",
        "times_by3 = np.arange(0,126,3)\n",
        "mycounts = mylogistic(t=times_by3, P0=100, rate=0.06, K=1000)\n",
        "sim_data = pd.DataFrame.from_dict({\"time\":times_by3,\"cell.count\":flatten_matrix([np.random.normal(x,0.05*x,1) for x in mycounts])})\n",
        "sim_data[\"pd\"] = np.log2(sim_data[\"cell.count\"]/sim_data[\"cell.count\"][0])\n",
        "sim_data.head()"
      ]
    },
    {
      "cell_type": "code",
      "execution_count": 27,
      "id": "f9d9c4a9-903e-4ae1-9dac-7dae6b90f08d",
      "metadata": {
        "colab": {
          "base_uri": "https://localhost:8080/",
          "height": 316
        },
        "id": "f9d9c4a9-903e-4ae1-9dac-7dae6b90f08d",
        "outputId": "fa253214-b41a-48f3-f6ed-615f830eb3ff"
      },
      "outputs": [
        {
          "output_type": "execute_result",
          "data": {
            "text/plain": [
              "<AxesSubplot:xlabel='time', ylabel='pd'>"
            ]
          },
          "metadata": {},
          "execution_count": 27
        },
        {
          "output_type": "display_data",
          "data": {
            "text/plain": [
              "<Figure size 432x288 with 1 Axes>"
            ],
            "image/png": "[encoded data removed]"
          },
          "metadata": {
            "needs_background": "light"
          }
        }
      ],
      "source": [
        "sns.scatterplot(data=sim_data, x=\"time\", y=\"pd\")"
      ]
    },
    {
      "cell_type": "markdown",
      "id": "5725808c-f3b2-47ed-b7a8-514a63b8deb9",
      "metadata": {
        "id": "5725808c-f3b2-47ed-b7a8-514a63b8deb9"
      },
      "source": [
        "## Nonlinear model fitting with SciPy's `curve_fit` function\n",
        "Nonlinear model fitting is more complicated and there aremany ways that optimal parameter values can be found. There is an entire field of research around parameter optimization! We will use a specific method employed by SciPy (the [`scipy.optimize.curve_fit`](https://docs.scipy.org/doc/scipy/reference/generated/scipy.optimize.curve_fit.html) function) that has the objective to minimize the sum of the squared residuals of model to data.  It returns optimized coefficient values (`popt`) and the estimated covariance of `popt`. The diagonals provide the variance of the parameter estimates. To compute one standard deviation of parameter errors, we will use `perr = np.sqrt(np.diag(pcov))`.  \n",
        "\n",
        "This approach to identify optimal parameter values is referred to as least squares regression and attempts to minimize the function \n",
        "$\\sum_i(f(x_i,\\beta)-y_i)^2$\n"
      ]
    },
    {
      "cell_type": "code",
      "execution_count": 28,
      "id": "112958e8-43f8-489b-b32b-234f1b34852c",
      "metadata": {
        "id": "112958e8-43f8-489b-b32b-234f1b34852c"
      },
      "outputs": [],
      "source": [
        "from scipy.optimize import curve_fit"
      ]
    },
    {
      "cell_type": "markdown",
      "id": "46860fe6-0035-4c59-989e-a5c123672c2c",
      "metadata": {
        "id": "46860fe6-0035-4c59-989e-a5c123672c2c"
      },
      "source": [
        "The function `{0:.4g}\".format(x)` is for limiting the number of digits of the calculated values (making viewing the values easier)."
      ]
    },
    {
      "cell_type": "code",
      "execution_count": 29,
      "id": "889c0d0b-4721-438a-9017-344f56ab858c",
      "metadata": {
        "id": "889c0d0b-4721-438a-9017-344f56ab858c"
      },
      "outputs": [],
      "source": [
        "logistic_popt, logistic_pcov = curve_fit(mylogistic, sim_data[\"time\"], sim_data[\"cell.count\"])\n",
        "logistic_popt_str = [\"{0:.4g}\".format(x) for x in logistic_popt]\n"
      ]
    },
    {
      "cell_type": "markdown",
      "id": "c95a0c96-8b81-4455-ac57-3b0a78a5fd7f",
      "metadata": {
        "id": "c95a0c96-8b81-4455-ac57-3b0a78a5fd7f"
      },
      "source": [
        "Printing the optimal parameter values."
      ]
    },
    {
      "cell_type": "code",
      "execution_count": 30,
      "id": "411cf5b6-294e-44fb-9627-176ba593a8be",
      "metadata": {
        "colab": {
          "base_uri": "https://localhost:8080/"
        },
        "id": "411cf5b6-294e-44fb-9627-176ba593a8be",
        "outputId": "395cc47a-8c42-40f0-dc15-c4082961f26e"
      },
      "outputs": [
        {
          "output_type": "stream",
          "name": "stdout",
          "text": [
            "Optimal parameter values for P0: 100.3, rate: 0.05983, and K: 994\n",
            "\n"
          ]
        }
      ],
      "source": [
        "print(f\"Optimal parameter values for P0: {logistic_popt_str[0]}, rate: {logistic_popt_str[1]}, and K: {logistic_popt_str[2]}\\n\")"
      ]
    },
    {
      "cell_type": "markdown",
      "id": "09903214-aaff-458e-9e84-2429f5136a45",
      "metadata": {
        "id": "09903214-aaff-458e-9e84-2429f5136a45"
      },
      "source": [
        "### Plot the data and overlay the model fit\n",
        "To visualize on the plot we must convert to normalized log2 scale. We will also include a linear model fit for comparison (standard output of seaborn's `regplot`."
      ]
    },
    {
      "cell_type": "code",
      "execution_count": 31,
      "id": "2c0cd14d-55a1-4c7a-ad11-f868d49addfa",
      "metadata": {
        "colab": {
          "base_uri": "https://localhost:8080/",
          "height": 316
        },
        "id": "2c0cd14d-55a1-4c7a-ad11-f868d49addfa",
        "outputId": "1962c889-60f3-4ce5-8cd6-8b0012062fe3"
      },
      "outputs": [
        {
          "output_type": "execute_result",
          "data": {
            "text/plain": [
              "<AxesSubplot:xlabel='time', ylabel='pd'>"
            ]
          },
          "metadata": {},
          "execution_count": 31
        },
        {
          "output_type": "display_data",
          "data": {
            "text/plain": [
              "<Figure size 432x288 with 1 Axes>"
            ],
            "image/png": "[encoded data removed]"
          },
          "metadata": {
            "needs_background": "light"
          }
        }
      ],
      "source": [
        "x_pred = np.linspace(min(times_by3),max(times_by3),100)\n",
        "y_pred = mylogistic(x_pred, *logistic_popt)\n",
        "y_pred = np.log2(y_pred/y_pred[0])\n",
        "sns.regplot(x=\"time\", y=\"pd\", data=sim_data)\n",
        "sns.lineplot(x=x_pred, \n",
        "             y=y_pred, \n",
        "             color=\"red\")\n",
        "\n",
        "# visualizing the model fit\n",
        "# red line is predicted fit"
      ]
    },
    {
      "cell_type": "markdown",
      "id": "f2014d0a-cbb7-4e39-9a71-cd77c70535e6",
      "metadata": {
        "id": "f2014d0a-cbb7-4e39-9a71-cd77c70535e6"
      },
      "source": [
        "Do the same for a Gompertz model."
      ]
    },
    {
      "cell_type": "code",
      "execution_count": 32,
      "id": "f57f9d8e-5782-4ec0-aa60-7115c5c86c65",
      "metadata": {
        "id": "f57f9d8e-5782-4ec0-aa60-7115c5c86c65"
      },
      "outputs": [],
      "source": [
        "gompertz_popt, gompertz_pcov = curve_fit(gompertz, sim_data[\"time\"], sim_data[\"cell.count\"])\n",
        "gompertz_popt_str = [\"{0:.4g}\".format(x) for x in gompertz_popt]\n"
      ]
    },
    {
      "cell_type": "code",
      "execution_count": 33,
      "id": "644dd92a-ca26-4129-aa05-4f8c2014d5df",
      "metadata": {
        "colab": {
          "base_uri": "https://localhost:8080/"
        },
        "id": "644dd92a-ca26-4129-aa05-4f8c2014d5df",
        "outputId": "6725cc6a-ed17-415c-84ac-f7b2b8a4ac4b"
      },
      "outputs": [
        {
          "output_type": "stream",
          "name": "stdout",
          "text": [
            "Optimal parameter values for P0: 61.38, rate: 0.03833, and K: 1037\n",
            "\n"
          ]
        }
      ],
      "source": [
        "print(f\"Optimal parameter values for P0: {gompertz_popt_str[0]}, rate: {gompertz_popt_str[1]}, and K: {gompertz_popt_str[2]}\\n\")"
      ]
    },
    {
      "cell_type": "code",
      "execution_count": 34,
      "id": "59b4da50-59c3-4eb8-8445-d2c09b9a4081",
      "metadata": {
        "colab": {
          "base_uri": "https://localhost:8080/",
          "height": 316
        },
        "id": "59b4da50-59c3-4eb8-8445-d2c09b9a4081",
        "outputId": "622fc64e-2778-44ca-822f-cb0a8bc12cfd"
      },
      "outputs": [
        {
          "output_type": "execute_result",
          "data": {
            "text/plain": [
              "<AxesSubplot:xlabel='time', ylabel='pd'>"
            ]
          },
          "metadata": {},
          "execution_count": 34
        },
        {
          "output_type": "display_data",
          "data": {
            "text/plain": [
              "<Figure size 432x288 with 1 Axes>"
            ],
            "image/png": "[encoded data removed]"
          },
          "metadata": {
            "needs_background": "light"
          }
        }
      ],
      "source": [
        "x_pred = np.linspace(min(times_by3),max(times_by3),100)\n",
        "y_pred = gompertz(x_pred, *gompertz_popt)\n",
        "y_pred = np.log2(y_pred/y_pred[0])\n",
        "sns.regplot(x=\"time\", y=\"pd\", data=sim_data)\n",
        "sns.lineplot(x=x_pred, \n",
        "             y=y_pred, \n",
        "             color=\"red\")"
      ]
    },
    {
      "cell_type": "markdown",
      "id": "5de323d7-c662-4a00-b5ae-7fe19b3074e2",
      "metadata": {
        "id": "5de323d7-c662-4a00-b5ae-7fe19b3074e2"
      },
      "source": [
        "### Limitations of these nonlinear growth models\n",
        "#### Both logistic and Gompertz models:  \n",
        "* Are phenomenological (they describe the result, not the cause)\n",
        "* Use a carrying capacity parameter ($K$); this may be relevant to space available in a culture well and/or average cell size, but how would you interpret different values in response to drug?  \n",
        "\n",
        "#### Gompertzian model:\n",
        "* Has initial assumptions that do not correspond to a stable, exponentially dividing population (infinite rate at time=0, rate is continually changing)\n"
      ]
    },
    {
      "cell_type": "markdown",
      "id": "411ea7d9-fcf1-44aa-92bd-4ce8fdcb1ddb",
      "metadata": {
        "id": "411ea7d9-fcf1-44aa-92bd-4ce8fdcb1ddb"
      },
      "source": [
        "## Assignment task (extra credit)\n",
        "### How many days would it take for a single tumor cell to grow to a tumor the size of an egg?\n",
        "\n",
        "\n",
        "**Assumptions:**\n",
        "* There are ~ $10^9$ tumor cells  in 1 cm$^3$ (~1 g)\n",
        "* Tumor Cell ≈ 1ng\n",
        "* Egg ≈ 35g\n",
        "* Average time per division (doubling time) ≈ 18h\n",
        "* Doubling rate = 1/doubling time\n",
        "* Population doubling equation: $P(t) = P_02^{rate*t}$\n"
      ]
    },
    {
      "cell_type": "markdown",
      "id": "4cb40054",
      "metadata": {
        "id": "4cb40054"
      },
      "source": [
        "<table>\n",
        "    <tr>\n",
        "        <td>\n",
        "        <img src=\"https://github.com/VU-CSP/quantbio-assignments/blob/main/img/cell_division.png?raw=1\" style=\"width: 150px;\" align=\"middle\" /> \n",
        "        <td>\n",
        "            $\\Longrightarrow$ $\\Longrightarrow$\n",
        "        <td>\n",
        "            <img src=\"https://github.com/VU-CSP/quantbio-assignments/blob/main/img/tumor.png?raw=1\" style=\"width: 150px;\"  align=\"middle\" />\n",
        "    </tr>\n",
        "</table>\n",
        "\n"
      ]
    },
    {
      "cell_type": "markdown",
      "id": "c2f24f5b-7c9d-4a8a-b616-2721a4bc434c",
      "metadata": {
        "id": "c2f24f5b-7c9d-4a8a-b616-2721a4bc434c"
      },
      "source": [
        "_Try to write a function that calculates this. Start of function definition is provided in code block below._  \n",
        "NOTE: to calculate log2, use the numpy function `np.log2()`  \n",
        "NOTE: check the units!"
      ]
    },
    {
      "cell_type": "code",
      "execution_count": 35,
      "id": "00a748b9-312d-455b-8e74-516d22d00687",
      "metadata": {
        "id": "00a748b9-312d-455b-8e74-516d22d00687"
      },
      "outputs": [],
      "source": [
        "def timeToEgg(P0, egg, DT):\n",
        "    '''\n",
        "    P0=initial cell number\n",
        "    egg=number of tumor cells in an egg-size tumor\n",
        "    DT=time to double the population size (i.e., the average cell cycle time)\n",
        "    '''\n",
        "    # add your code for the function here\n",
        "    return()"
      ]
    },
    {
      "cell_type": "code",
      "execution_count": 35,
      "id": "9e33a969-ddac-42c0-b07a-80a45c04dcca",
      "metadata": {
        "id": "9e33a969-ddac-42c0-b07a-80a45c04dcca"
      },
      "outputs": [],
      "source": []
    },
    {
      "cell_type": "markdown",
      "id": "fc218c88-2a9f-40d0-9995-1c50e4543890",
      "metadata": {
        "id": "fc218c88-2a9f-40d0-9995-1c50e4543890"
      },
      "source": [
        "### Calculate time to egg-sized tumor from 100 cells\n",
        "Do the calculation using the function you made.\n"
      ]
    },
    {
      "cell_type": "code",
      "execution_count": 36,
      "id": "eac88800-2715-41ee-a061-953435113623",
      "metadata": {
        "id": "eac88800-2715-41ee-a061-953435113623"
      },
      "outputs": [],
      "source": [
        "# Execute your function with the correct input argument values.\n",
        "# timeToEgg(P0=100,egg=<egg_val>,DT=<DT_val>)\n"
      ]
    },
    {
      "cell_type": "code",
      "execution_count": 36,
      "id": "6aef3847-ab37-42cd-9f62-fd6a512d36a7",
      "metadata": {
        "id": "6aef3847-ab37-42cd-9f62-fd6a512d36a7"
      },
      "outputs": [],
      "source": []
    }
  ],
  "metadata": {
    "colab": {
      "provenance": [],
      "include_colab_link": true
    },
    "kernelspec": {
      "display_name": "Python 3 (ipykernel)",
      "language": "python",
      "name": "python3"
    },
    "language_info": {
      "codemirror_mode": {
        "name": "ipython",
        "version": 3
      },
      "file_extension": ".py",
      "mimetype": "text/x-python",
      "name": "python",
      "nbconvert_exporter": "python",
      "pygments_lexer": "ipython3",
      "version": "3.7.11"
    }
  },
  "nbformat": 4,
  "nbformat_minor": 5
}